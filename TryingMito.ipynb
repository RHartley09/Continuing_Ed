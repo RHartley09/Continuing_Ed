{
 "cells": [
  {
   "cell_type": "code",
   "execution_count": 1,
   "metadata": {},
   "outputs": [],
   "source": [
    "import pandas as pd"
   ]
  },
  {
   "cell_type": "code",
   "execution_count": 2,
   "metadata": {},
   "outputs": [
    {
     "data": {
      "text/html": [
       "<div><div id=e057e74f-9449-470a-b067-60e2e7d9b1dd style=\"display:none; background-color:#9D6CFF; color:white; width:200px; height:30px; padding-left:5px; border-radius:4px; flex-direction:row; justify-content:space-around; align-items:center;\" onmouseover=\"this.style.backgroundColor='#BA9BF8'\" onmouseout=\"this.style.backgroundColor='#9D6CFF'\" onclick=\"window.commands?.execute('create-mitosheet-from-dataframe-output');\">See Full Dataframe in Mito</div> <script> if (window.commands.hasCommand('create-mitosheet-from-dataframe-output')) document.getElementById('e057e74f-9449-470a-b067-60e2e7d9b1dd').style.display = 'flex' </script> <table border=\"1\" class=\"dataframe\">\n",
       "  <thead>\n",
       "    <tr style=\"text-align: right;\">\n",
       "      <th></th>\n",
       "      <th>Year</th>\n",
       "      <th>FederalMinimumWage</th>\n",
       "      <th>MeanAnnualInflation</th>\n",
       "      <th>MinWageIndexedLastRaiseYear</th>\n",
       "      <th>UnemploymentRateDecember</th>\n",
       "      <th>GDP_AnnualGrowth</th>\n",
       "    </tr>\n",
       "  </thead>\n",
       "  <tbody>\n",
       "    <tr>\n",
       "      <th>0</th>\n",
       "      <td>1930</td>\n",
       "      <td>$0.00</td>\n",
       "      <td>-2.30%</td>\n",
       "      <td>NaN</td>\n",
       "      <td>8.70%</td>\n",
       "      <td>-8.50%</td>\n",
       "    </tr>\n",
       "    <tr>\n",
       "      <th>1</th>\n",
       "      <td>1931</td>\n",
       "      <td>$0.00</td>\n",
       "      <td>-9.00%</td>\n",
       "      <td>NaN</td>\n",
       "      <td>15.90%</td>\n",
       "      <td>-6.40%</td>\n",
       "    </tr>\n",
       "    <tr>\n",
       "      <th>2</th>\n",
       "      <td>1932</td>\n",
       "      <td>$0.00</td>\n",
       "      <td>-9.90%</td>\n",
       "      <td>NaN</td>\n",
       "      <td>23.60%</td>\n",
       "      <td>-12.90%</td>\n",
       "    </tr>\n",
       "    <tr>\n",
       "      <th>3</th>\n",
       "      <td>1933</td>\n",
       "      <td>$0.00</td>\n",
       "      <td>-5.10%</td>\n",
       "      <td>NaN</td>\n",
       "      <td>24.90%</td>\n",
       "      <td>-1.20%</td>\n",
       "    </tr>\n",
       "    <tr>\n",
       "      <th>4</th>\n",
       "      <td>1934</td>\n",
       "      <td>$0.00</td>\n",
       "      <td>3.10%</td>\n",
       "      <td>NaN</td>\n",
       "      <td>21.70%</td>\n",
       "      <td>10.80%</td>\n",
       "    </tr>\n",
       "    <tr>\n",
       "      <th>...</th>\n",
       "      <td>...</td>\n",
       "      <td>...</td>\n",
       "      <td>...</td>\n",
       "      <td>...</td>\n",
       "      <td>...</td>\n",
       "      <td>...</td>\n",
       "    </tr>\n",
       "    <tr>\n",
       "      <th>86</th>\n",
       "      <td>2016</td>\n",
       "      <td>$7.25</td>\n",
       "      <td>1.30%</td>\n",
       "      <td>$6.46</td>\n",
       "      <td>4.70%</td>\n",
       "      <td>1.70%</td>\n",
       "    </tr>\n",
       "    <tr>\n",
       "      <th>87</th>\n",
       "      <td>2017</td>\n",
       "      <td>$7.25</td>\n",
       "      <td>2.10%</td>\n",
       "      <td>$6.33</td>\n",
       "      <td>4.10%</td>\n",
       "      <td>2.30%</td>\n",
       "    </tr>\n",
       "    <tr>\n",
       "      <th>88</th>\n",
       "      <td>2018</td>\n",
       "      <td>$7.25</td>\n",
       "      <td>2.40%</td>\n",
       "      <td>$6.17</td>\n",
       "      <td>3.90%</td>\n",
       "      <td>2.90%</td>\n",
       "    </tr>\n",
       "    <tr>\n",
       "      <th>89</th>\n",
       "      <td>2019</td>\n",
       "      <td>$7.25</td>\n",
       "      <td>1.80%</td>\n",
       "      <td>$6.06</td>\n",
       "      <td>3.60%</td>\n",
       "      <td>2.30%</td>\n",
       "    </tr>\n",
       "    <tr>\n",
       "      <th>90</th>\n",
       "      <td>2020</td>\n",
       "      <td>$7.25</td>\n",
       "      <td>1.20%</td>\n",
       "      <td>$5.99</td>\n",
       "      <td>6.70%</td>\n",
       "      <td>-3.40%</td>\n",
       "    </tr>\n",
       "  </tbody>\n",
       "</table></div>"
      ],
      "text/plain": [
       "    Year FederalMinimumWage MeanAnnualInflation MinWageIndexedLastRaiseYear  \\\n",
       "0   1930              $0.00              -2.30%                         NaN   \n",
       "1   1931              $0.00              -9.00%                         NaN   \n",
       "2   1932              $0.00              -9.90%                         NaN   \n",
       "3   1933              $0.00              -5.10%                         NaN   \n",
       "4   1934              $0.00               3.10%                         NaN   \n",
       "..   ...                ...                 ...                         ...   \n",
       "86  2016              $7.25               1.30%                       $6.46   \n",
       "87  2017              $7.25               2.10%                       $6.33   \n",
       "88  2018              $7.25               2.40%                       $6.17   \n",
       "89  2019              $7.25               1.80%                       $6.06   \n",
       "90  2020              $7.25               1.20%                       $5.99   \n",
       "\n",
       "   UnemploymentRateDecember GDP_AnnualGrowth  \n",
       "0                     8.70%           -8.50%  \n",
       "1                    15.90%           -6.40%  \n",
       "2                    23.60%          -12.90%  \n",
       "3                    24.90%           -1.20%  \n",
       "4                    21.70%           10.80%  \n",
       "..                      ...              ...  \n",
       "86                    4.70%            1.70%  \n",
       "87                    4.10%            2.30%  \n",
       "88                    3.90%            2.90%  \n",
       "89                    3.60%            2.30%  \n",
       "90                    6.70%           -3.40%  \n",
       "\n",
       "[91 rows x 6 columns]"
      ]
     },
     "execution_count": 2,
     "metadata": {},
     "output_type": "execute_result"
    }
   ],
   "source": [
    "df = pd.read_csv(\"MinimumWage.csv\")\n",
    "df"
   ]
  },
  {
   "cell_type": "code",
   "execution_count": 3,
   "metadata": {},
   "outputs": [
    {
     "data": {
      "application/vnd.jupyter.widget-view+json": {
       "model_id": "34129b988b3b4b0981cde31b71b7c9f9",
       "version_major": 2,
       "version_minor": 0
      },
      "text/plain": [
       "MitoWidget(analysis_data_json='{\"analysisName\": \"UUID-32c9e30c-3c4c-48c1-8b12-e2ec103a350c\", \"code\": {\"imports…"
      ]
     },
     "metadata": {},
     "output_type": "display_data"
    }
   ],
   "source": [
    "import mitosheet\n",
    "mitosheet.sheet(df, view_df=True)"
   ]
  },
  {
   "cell_type": "code",
   "execution_count": 4,
   "metadata": {},
   "outputs": [
    {
     "data": {
      "text/html": [
       "<div><div id=df2185c4-b59f-426d-9a10-368215ce322f style=\"display:none; background-color:#9D6CFF; color:white; width:200px; height:30px; padding-left:5px; border-radius:4px; flex-direction:row; justify-content:space-around; align-items:center;\" onmouseover=\"this.style.backgroundColor='#BA9BF8'\" onmouseout=\"this.style.backgroundColor='#9D6CFF'\" onclick=\"window.commands?.execute('create-mitosheet-from-dataframe-output');\">See Full Dataframe in Mito</div> <script> if (window.commands.hasCommand('create-mitosheet-from-dataframe-output')) document.getElementById('df2185c4-b59f-426d-9a10-368215ce322f').style.display = 'flex' </script> <table border=\"1\" class=\"dataframe\">\n",
       "  <thead>\n",
       "    <tr style=\"text-align: right;\">\n",
       "      <th></th>\n",
       "      <th>Year</th>\n",
       "      <th>FederalMinimumWage</th>\n",
       "      <th>MeanAnnualInflation</th>\n",
       "      <th>MinWageIndexedLastRaiseYear</th>\n",
       "      <th>UnemploymentRateDecember</th>\n",
       "      <th>GDP_AnnualGrowth</th>\n",
       "    </tr>\n",
       "  </thead>\n",
       "  <tbody>\n",
       "    <tr>\n",
       "      <th>0</th>\n",
       "      <td>1930</td>\n",
       "      <td>$0.00</td>\n",
       "      <td>-2.30%</td>\n",
       "      <td>NaN</td>\n",
       "      <td>8.70%</td>\n",
       "      <td>-8.50%</td>\n",
       "    </tr>\n",
       "    <tr>\n",
       "      <th>1</th>\n",
       "      <td>1931</td>\n",
       "      <td>$0.00</td>\n",
       "      <td>-9.00%</td>\n",
       "      <td>NaN</td>\n",
       "      <td>15.90%</td>\n",
       "      <td>-6.40%</td>\n",
       "    </tr>\n",
       "    <tr>\n",
       "      <th>2</th>\n",
       "      <td>1932</td>\n",
       "      <td>$0.00</td>\n",
       "      <td>-9.90%</td>\n",
       "      <td>NaN</td>\n",
       "      <td>23.60%</td>\n",
       "      <td>-12.90%</td>\n",
       "    </tr>\n",
       "    <tr>\n",
       "      <th>3</th>\n",
       "      <td>1933</td>\n",
       "      <td>$0.00</td>\n",
       "      <td>-5.10%</td>\n",
       "      <td>NaN</td>\n",
       "      <td>24.90%</td>\n",
       "      <td>-1.20%</td>\n",
       "    </tr>\n",
       "    <tr>\n",
       "      <th>4</th>\n",
       "      <td>1934</td>\n",
       "      <td>$0.00</td>\n",
       "      <td>3.10%</td>\n",
       "      <td>NaN</td>\n",
       "      <td>21.70%</td>\n",
       "      <td>10.80%</td>\n",
       "    </tr>\n",
       "    <tr>\n",
       "      <th>...</th>\n",
       "      <td>...</td>\n",
       "      <td>...</td>\n",
       "      <td>...</td>\n",
       "      <td>...</td>\n",
       "      <td>...</td>\n",
       "      <td>...</td>\n",
       "    </tr>\n",
       "    <tr>\n",
       "      <th>86</th>\n",
       "      <td>2016</td>\n",
       "      <td>$7.25</td>\n",
       "      <td>1.30%</td>\n",
       "      <td>$6.46</td>\n",
       "      <td>4.70%</td>\n",
       "      <td>1.70%</td>\n",
       "    </tr>\n",
       "    <tr>\n",
       "      <th>87</th>\n",
       "      <td>2017</td>\n",
       "      <td>$7.25</td>\n",
       "      <td>2.10%</td>\n",
       "      <td>$6.33</td>\n",
       "      <td>4.10%</td>\n",
       "      <td>2.30%</td>\n",
       "    </tr>\n",
       "    <tr>\n",
       "      <th>88</th>\n",
       "      <td>2018</td>\n",
       "      <td>$7.25</td>\n",
       "      <td>2.40%</td>\n",
       "      <td>$6.17</td>\n",
       "      <td>3.90%</td>\n",
       "      <td>2.90%</td>\n",
       "    </tr>\n",
       "    <tr>\n",
       "      <th>89</th>\n",
       "      <td>2019</td>\n",
       "      <td>$7.25</td>\n",
       "      <td>1.80%</td>\n",
       "      <td>$6.06</td>\n",
       "      <td>3.60%</td>\n",
       "      <td>2.30%</td>\n",
       "    </tr>\n",
       "    <tr>\n",
       "      <th>90</th>\n",
       "      <td>2020</td>\n",
       "      <td>$7.25</td>\n",
       "      <td>1.20%</td>\n",
       "      <td>$5.99</td>\n",
       "      <td>6.70%</td>\n",
       "      <td>-3.40%</td>\n",
       "    </tr>\n",
       "  </tbody>\n",
       "</table></div>"
      ],
      "text/plain": [
       "    Year FederalMinimumWage MeanAnnualInflation MinWageIndexedLastRaiseYear  \\\n",
       "0   1930              $0.00              -2.30%                         NaN   \n",
       "1   1931              $0.00              -9.00%                         NaN   \n",
       "2   1932              $0.00              -9.90%                         NaN   \n",
       "3   1933              $0.00              -5.10%                         NaN   \n",
       "4   1934              $0.00               3.10%                         NaN   \n",
       "..   ...                ...                 ...                         ...   \n",
       "86  2016              $7.25               1.30%                       $6.46   \n",
       "87  2017              $7.25               2.10%                       $6.33   \n",
       "88  2018              $7.25               2.40%                       $6.17   \n",
       "89  2019              $7.25               1.80%                       $6.06   \n",
       "90  2020              $7.25               1.20%                       $5.99   \n",
       "\n",
       "   UnemploymentRateDecember GDP_AnnualGrowth  \n",
       "0                     8.70%           -8.50%  \n",
       "1                    15.90%           -6.40%  \n",
       "2                    23.60%          -12.90%  \n",
       "3                    24.90%           -1.20%  \n",
       "4                    21.70%           10.80%  \n",
       "..                      ...              ...  \n",
       "86                    4.70%            1.70%  \n",
       "87                    4.10%            2.30%  \n",
       "88                    3.90%            2.90%  \n",
       "89                    3.60%            2.30%  \n",
       "90                    6.70%           -3.40%  \n",
       "\n",
       "[91 rows x 6 columns]"
      ]
     },
     "execution_count": 4,
     "metadata": {},
     "output_type": "execute_result"
    }
   ],
   "source": [
    "from mitosheet import *; register_analysis('UUID-70550d29-3bf3-4577-b680-ae44057f87a2')\n",
    "\n",
    "# Drop duplicates in df\n",
    "df = df.drop_duplicates(keep='first')\n",
    "df\n"
   ]
  },
  {
   "cell_type": "code",
   "execution_count": 5,
   "metadata": {},
   "outputs": [
    {
     "data": {
      "application/vnd.jupyter.widget-view+json": {
       "model_id": "f6bba09cd5d74236b8d90b1bd4d85ec3",
       "version_major": 2,
       "version_minor": 0
      },
      "text/plain": [
       "MitoWidget(analysis_data_json='{\"analysisName\": \"UUID-fe014d25-1daa-4c8b-b57f-be97040d010d\", \"code\": {\"imports…"
      ]
     },
     "metadata": {},
     "output_type": "display_data"
    }
   ],
   "source": [
    "import mitosheet\n",
    "mitosheet.sheet(df, view_df=True)"
   ]
  },
  {
   "cell_type": "code",
   "execution_count": 6,
   "metadata": {},
   "outputs": [
    {
     "data": {
      "text/html": [
       "<iframe\n",
       "    scrolling=\"no\"\n",
       "    width=\"100%\"\n",
       "    height=\"545px\"\n",
       "    src=\"iframe_figures/figure_6.html\"\n",
       "    frameborder=\"0\"\n",
       "    allowfullscreen\n",
       "></iframe>\n"
      ]
     },
     "metadata": {},
     "output_type": "display_data"
    }
   ],
   "source": [
    "# Import plotly and create a figure\n",
    "import plotly.graph_objects as go\n",
    "fig = go.Figure()\n",
    "\n",
    "\n",
    "\n",
    "# Add the bar chart traces to the graph\n",
    "for column_header in ['Year']:\n",
    "    fig.add_trace(\n",
    "        go.Bar( \n",
    "            x=df[column_header],\n",
    "            y=df['FederalMinimumWage'],\n",
    "            name=str(column_header)\n",
    "        )\n",
    "    )\n",
    "\n",
    "# Update the title and stacking mode of the graph\n",
    "# See Plotly documentation for customizations: https://plotly.com/python/reference/bar/\n",
    "fig.update_layout(\n",
    "    xaxis_title=\"Year\",\n",
    "    yaxis_title=\"FederalMinimumWage\",\n",
    "    title=\"Year, FederalMinimumWage bar chart\",\n",
    "    barmode='group',\n",
    ")\n",
    "fig.show(renderer=\"iframe\")"
   ]
  },
  {
   "cell_type": "code",
   "execution_count": 7,
   "metadata": {},
   "outputs": [
    {
     "data": {
      "application/vnd.jupyter.widget-view+json": {
       "model_id": "33918d25b6fa4cd6ac2e93ad022ac694",
       "version_major": 2,
       "version_minor": 0
      },
      "text/plain": [
       "MitoWidget(analysis_data_json='{\"analysisName\": \"UUID-772823da-2554-4dd6-8196-a0a292c089ba\", \"code\": {\"imports…"
      ]
     },
     "metadata": {},
     "output_type": "display_data"
    }
   ],
   "source": [
    "mitosheet.sheet(df, view_df=True)\n"
   ]
  },
  {
   "cell_type": "code",
   "execution_count": null,
   "metadata": {},
   "outputs": [],
   "source": []
  }
 ],
 "metadata": {
  "kernelspec": {
   "display_name": "Python [conda env:root]",
   "language": "python",
   "name": "conda-root-py"
  },
  "language_info": {
   "codemirror_mode": {
    "name": "ipython",
    "version": 3
   },
   "file_extension": ".py",
   "mimetype": "text/x-python",
   "name": "python",
   "nbconvert_exporter": "python",
   "pygments_lexer": "ipython3",
   "version": "3.7.6"
  }
 },
 "nbformat": 4,
 "nbformat_minor": 4
}
